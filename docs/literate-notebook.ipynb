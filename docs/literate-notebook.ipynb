{
 "cells": [
  {
   "cell_type": "markdown",
   "id": "9e399156",
   "metadata": {
    "dotnet_repl_cellExecutionEndTime": "2023-11-22T12:20:24.6149643+00:00",
    "dotnet_repl_cellExecutionStartTime": "2023-11-22T12:20:24.5700648+00:00"
   },
   "source": [
    "---\n",
    "category: Documentation\n",
    "\n",
    "categoryindex: 1\n",
    "\n",
    "index: 4\n",
    "\n",
    "---\n",
    "\n",
    "# Literate Notebooks\n",
    "\n",
    "Content may be created using  [.NET interactive](https://github.com/dotnet/interactive/tree/main) polyglot notebooks as the input file. Notebooks are processed by converting the notebook to a literate `.fsx` script and then passing the script through the script processing pipeline. Markdown notebook cells are passed through as comments surrounded by `(**` and `*)`, F# code cells are passed through as code, and non-F# code is passed through as markdown fenced code blocks between `(**` and `*)` comment markers. \n",
    "\n",
    "The `fsdocs` tool uses [dotnet-repl](https://github.com/jonsequitur/dotnet-repl) to evaluate polyglot notebooks. You need this tool to evaluate notebooks using `dotnet fsdocs --eval`. It can be installed into your local tool manifest using the command `dotnet tool install dotnet-repl`.\n",
    "\n",
    "F# Formatting tries to faithfully reproduce a notebook's native appearance when generating documents. Notebook cell outputs are passed through unchanged to preserve the notebook's html output. The below snippet demonstrates a notebook's html output for F# records, which differs from the output you would get with the same code inside a literate scripts.\n"
   ]
  },
  {
   "cell_type": "code",
   "execution_count": null,
   "id": "4381f259",
   "metadata": {
    "dotnet_interactive": {
     "language": "fsharp"
    },
    "dotnet_repl_cellExecutionEndTime": "2023-11-22T12:20:27.5439764+00:00",
    "dotnet_repl_cellExecutionStartTime": "2023-11-22T12:20:24.6182652+00:00",
    "polyglot_notebook": {
     "kernelName": "fsharp"
    },
    "vscode": {
     "languageId": "polyglot-notebook"
    }
   },
   "outputs": [],
   "source": [
    "type ContactCard =\n",
    "    { Name: string\n",
    "      Phone: string\n",
    "      ZipCode: string }\n",
    "\n",
    "// Create a new record\n",
    "{ Name = \"Alf\"; Phone = \"(555) 555-5555\"; ZipCode = \"90210\" }"
   ]
  }
 ],
 "metadata": {
  "dotnet_interactive": {
   "defaultKernelName": "fsharp",
   "items": [
    {
     "name": "fsharp"
    }
   ]
  },
  "kernelspec": {
   "display_name": ".NET (F#)",
   "language": "F#",
   "name": ".net-fsharp"
  },
  "language_info": {
   "file_extension": ".fs",
   "mimetype": "text/x-fsharp",
   "name": "F#",
   "pygments_lexer": "fsharp",
   "version": "6.0"
  },
  "polyglot_notebook": {
   "defaultKernelName": "fsharp",
   "items": [
    {
     "name": "fsharp"
    }
   ]
  }
 },
 "nbformat": 4,
 "nbformat_minor": 5
}
